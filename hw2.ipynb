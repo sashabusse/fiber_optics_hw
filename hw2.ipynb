{
 "cells": [
  {
   "cell_type": "code",
   "execution_count": 1,
   "id": "a2d0c53d",
   "metadata": {},
   "outputs": [],
   "source": [
    "import numpy as np\n",
    "import scipy\n",
    "from scipy import signal, optimize, io\n",
    "import pandas as pd\n",
    "\n",
    "import warnings\n",
    "\n",
    "from matplotlib import pyplot as plt\n",
    "import seaborn as sns\n",
    "\n",
    "import utility\n",
    "from utility import A2db, P2db, db2A, db2P\n",
    "\n",
    "from mapping import qam_sym2iq_map, qam_mapping, qam_demapping, qam_order2bits, qam_simmetry_bits, qam_vh_bits, gray_code, qam16_ser_labeled, qam16_demap2bits_labeled,qam16_demap_labeled"
   ]
  },
  {
   "cell_type": "code",
   "execution_count": 2,
   "id": "fe70cccd",
   "metadata": {},
   "outputs": [],
   "source": [
    "mat_data = io.loadmat('pbm_test.mat')\n",
    "skip_data_sym = 100\n",
    "tx_bits = mat_data['srcPermBitData'][4*skip_data_sym:-4*skip_data_sym, :]\n",
    "tx_iq = mat_data['srcSymData'][skip_data_sym:-skip_data_sym, :]\n",
    "rx_iq = mat_data['eqSymOutData'][skip_data_sym:-skip_data_sym, :]"
   ]
  },
  {
   "cell_type": "code",
   "execution_count": 4,
   "id": "dfe26210",
   "metadata": {},
   "outputs": [
    {
     "name": "stdout",
     "output_type": "stream",
     "text": [
      "NMSE: -12.61185959277837 dB\n",
      "[ 1  5 14 ... 11  5 10]\n",
      "[6 5 4 ... 6 5 5]\n",
      "SER0: 0.030455205661485213\n",
      "SER1: 0.03240983961185451\n",
      "SER_AVG: 0.03143252263666986\n",
      "BER0: 0.007690093946042832\n",
      "BER1: 0.0082135186501437\n",
      "BER_AVG: 0.007951806298093266\n"
     ]
    }
   ],
   "source": [
    "print(\"NMSE: {} dB\".format(utility.nmse_db(rx_iq, tx_iq)))\n",
    "ser0 = qam16_ser_labeled(rx_iq[:, 0], tx_iq[:, 0])\n",
    "ser1 = qam16_ser_labeled(rx_iq[:, 1], tx_iq[:, 1])\n",
    "\n",
    "rx_bits = np.zeros_like(tx_bits)\n",
    "rx_bits[:, 0] = qam16_demap2bits_labeled(rx_iq[:, 0], tx_iq[:,0], tx_bits[:, 0])\n",
    "rx_bits[:, 1] = qam16_demap2bits_labeled(rx_iq[:, 1], tx_iq[:,1], tx_bits[:, 1])\n",
    "ber0 = np.mean(rx_bits[:, 0] ^ tx_bits[:, 0])\n",
    "ber1 = np.mean(rx_bits[:, 1] ^ tx_bits[:, 1])\n",
    "                         \n",
    "print(\"SER0: {}\".format(ser0))\n",
    "print(\"SER1: {}\".format(ser1))\n",
    "print(\"SER_AVG: {}\".format(np.mean([ser0, ser1])))\n",
    "print(\"BER0: {}\".format(ber0))\n",
    "print(\"BER1: {}\".format(ber1))\n",
    "print(\"BER_AVG: {}\".format(np.mean([ber0, ber1])))\n"
   ]
  },
  {
   "cell_type": "code",
   "execution_count": 4,
   "id": "02790fab",
   "metadata": {},
   "outputs": [
    {
     "name": "stdout",
     "output_type": "stream",
     "text": [
      "[ 1  5 14 ... 11  5 10]\n",
      "0.007690093946042832\n"
     ]
    }
   ],
   "source": []
  },
  {
   "cell_type": "code",
   "execution_count": 32,
   "id": "029783a4",
   "metadata": {},
   "outputs": [
    {
     "data": {
      "text/plain": [
       "array([-2.79619352-2.91017721j, -0.95060291-2.84864062j,\n",
       "        0.9509584 -2.84388936j,  2.88723315-2.78889651j,\n",
       "       -2.84376805-0.95430542j, -0.96431618-0.93274239j,\n",
       "        0.93458067-0.9641787j ,  2.84489193-0.94453356j,\n",
       "       -2.8455972 +0.94751145j, -0.93448299+0.96335888j,\n",
       "        0.96398924+0.93063016j,  2.84652592+0.94421625j,\n",
       "       -2.90173254+2.78380077j, -0.94923404+2.84543009j,\n",
       "        0.9453033 +2.8435333j ,  2.78315638+2.91201189j])"
      ]
     },
     "execution_count": 32,
     "metadata": {},
     "output_type": "execute_result"
    }
   ],
   "source": [
    "iq = rx_iq[:, 0]\n",
    "labels = tx_iq[:, 0]\n",
    "order = 16\n",
    "\n",
    "idx = (labels.real+3)//2 + (labels.imag+3)//2 * 4\n",
    "avg = np.zeros(order, dtype=complex)\n",
    "for i in range(avg.size):\n",
    "    avg[i] = np.mean(iq[idx == i])\n",
    "\n",
    "avg"
   ]
  },
  {
   "cell_type": "code",
   "execution_count": 33,
   "id": "5678475b",
   "metadata": {},
   "outputs": [],
   "source": [
    "idx_demaped = np.zeros_like(idx)\n",
    "iq_demaped = np.zeros_like(iq)\n",
    "for i in range(iq.size):\n",
    "    idx_demaped[i] = np.argmin(np.abs(avg - iq[i]))\n",
    "    iq_demaped[i] = ((idx_demaped[i] % 4)*2 - 3) + 1j*((idx_demaped[i]//4)*2 - 3)\n",
    "\n",
    "ser = np.mean((labels-iq_demaped) != 0)"
   ]
  },
  {
   "cell_type": "code",
   "execution_count": 34,
   "id": "32728dad",
   "metadata": {},
   "outputs": [
    {
     "data": {
      "text/plain": [
       "0.030455205661485213"
      ]
     },
     "execution_count": 34,
     "metadata": {},
     "output_type": "execute_result"
    }
   ],
   "source": [
    "ser"
   ]
  },
  {
   "cell_type": "code",
   "execution_count": 17,
   "id": "1929c08a",
   "metadata": {},
   "outputs": [
    {
     "data": {
      "text/plain": [
       "1.0"
      ]
     },
     "execution_count": 17,
     "metadata": {},
     "output_type": "execute_result"
    }
   ],
   "source": [
    "np.mean(idx-idx_demaped !=)"
   ]
  },
  {
   "cell_type": "code",
   "execution_count": 15,
   "id": "83c6cb50",
   "metadata": {},
   "outputs": [
    {
     "data": {
      "text/plain": [
       "array([ 6., 10.,  5.,  6.,  3.,  9., 10.,  6., 10.,  4.])"
      ]
     },
     "execution_count": 15,
     "metadata": {},
     "output_type": "execute_result"
    }
   ],
   "source": [
    "idx[:10]"
   ]
  },
  {
   "cell_type": "code",
   "execution_count": 16,
   "id": "a10747d8",
   "metadata": {},
   "outputs": [
    {
     "data": {
      "text/plain": [
       "array([ 3., 12.,  5.,  6.,  3.,  9., 10.,  6., 14.,  4.])"
      ]
     },
     "execution_count": 16,
     "metadata": {},
     "output_type": "execute_result"
    }
   ],
   "source": [
    "idx_demaped[:10]"
   ]
  },
  {
   "cell_type": "code",
   "execution_count": 4,
   "id": "d75d7671",
   "metadata": {},
   "outputs": [
    {
     "data": {
      "text/plain": [
       "array([0, 0, 1, 0], dtype=uint8)"
      ]
     },
     "execution_count": 4,
     "metadata": {},
     "output_type": "execute_result"
    }
   ],
   "source": [
    "sym_idx = 100\n",
    "tx_bits[sym_idx*4:sym_idx*4+4, 0]"
   ]
  },
  {
   "cell_type": "code",
   "execution_count": 53,
   "id": "ba964bfc",
   "metadata": {},
   "outputs": [
    {
     "data": {
      "text/plain": [
       "array([-3.-3.j])"
      ]
     },
     "execution_count": 53,
     "metadata": {},
     "output_type": "execute_result"
    }
   ],
   "source": [
    "tx_iq[sym_idx:sym_idx+1, 0]"
   ]
  },
  {
   "cell_type": "code",
   "execution_count": 54,
   "id": "3b81f96e",
   "metadata": {},
   "outputs": [
    {
     "data": {
      "text/plain": [
       "array([3.+1.j])"
      ]
     },
     "execution_count": 54,
     "metadata": {},
     "output_type": "execute_result"
    }
   ],
   "source": [
    "mtx[sym_idx:sym_idx+1]"
   ]
  },
  {
   "cell_type": "code",
   "execution_count": 7,
   "id": "2cde5a3c",
   "metadata": {},
   "outputs": [
    {
     "data": {
      "text/plain": [
       "array([-3., -1.,  1.,  3.])"
      ]
     },
     "execution_count": 7,
     "metadata": {},
     "output_type": "execute_result"
    }
   ],
   "source": [
    "np.unique(tx_iq.real)"
   ]
  }
 ],
 "metadata": {
  "kernelspec": {
   "display_name": "Python 3 (ipykernel)",
   "language": "python",
   "name": "python3"
  },
  "language_info": {
   "codemirror_mode": {
    "name": "ipython",
    "version": 3
   },
   "file_extension": ".py",
   "mimetype": "text/x-python",
   "name": "python",
   "nbconvert_exporter": "python",
   "pygments_lexer": "ipython3",
   "version": "3.9.6"
  }
 },
 "nbformat": 4,
 "nbformat_minor": 5
}
