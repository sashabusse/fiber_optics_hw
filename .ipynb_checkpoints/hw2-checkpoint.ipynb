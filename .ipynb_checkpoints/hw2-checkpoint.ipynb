{
 "cells": [
  {
   "cell_type": "code",
   "execution_count": 1,
   "id": "a2d0c53d",
   "metadata": {},
   "outputs": [],
   "source": [
    "import numpy as np\n",
    "import scipy\n",
    "from scipy import signal, optimize, io\n",
    "import pandas as pd\n",
    "\n",
    "import warnings\n",
    "\n",
    "from matplotlib import pyplot as plt\n",
    "import seaborn as sns\n",
    "\n",
    "import utility\n",
    "from utility import A2db, P2db, db2A, db2P\n",
    "\n",
    "import adaptation\n",
    "from mapping import qam_sym2iq_map, qam_mapping, qam_demapping, qam_order2bits, qam_simmetry_bits, qam_vh_bits, gray_code, qam16_ser_labeled, qam16_demap2bits_labeled,qam16_demap_labeled"
   ]
  },
  {
   "cell_type": "code",
   "execution_count": 2,
   "id": "fe70cccd",
   "metadata": {},
   "outputs": [],
   "source": [
    "mat_data = io.loadmat('pbm_test.mat')\n",
    "skip_data_sym = 1000\n",
    "tx_bits = mat_data['srcPermBitData'][4*skip_data_sym:-4*skip_data_sym, :]\n",
    "tx_iq = mat_data['srcSymData'][skip_data_sym:-skip_data_sym, :].astype(dtype=complex)\n",
    "rx_iq = mat_data['eqSymOutData'][skip_data_sym:-skip_data_sym, :].astype(dtype=complex)"
   ]
  },
  {
   "cell_type": "code",
   "execution_count": 3,
   "id": "dfe26210",
   "metadata": {},
   "outputs": [
    {
     "name": "stdout",
     "output_type": "stream",
     "text": [
      "NMSE: -12.845170797882922 dB\n",
      "SER0: 0.030423383332296012\n",
      "SER1: 0.03225166490321778\n",
      "SER_AVG: 0.03133752411775689\n",
      "BER0: 0.00768170006846331\n",
      "BER1: 0.008175725088691107\n",
      "BER_AVG: 0.007928712578577208\n"
     ]
    }
   ],
   "source": [
    "print(\"NMSE: {} dB\".format(utility.nmse_db(tx_iq, rx_iq)))\n",
    "ser0 = qam16_ser_labeled(rx_iq[:, 0], tx_iq[:, 0])\n",
    "ser1 = qam16_ser_labeled(rx_iq[:, 1], tx_iq[:, 1])\n",
    "\n",
    "rx_bits = np.zeros_like(tx_bits)\n",
    "rx_bits[:, 0] = qam16_demap2bits_labeled(rx_iq[:, 0], tx_iq[:,0], tx_bits[:, 0])\n",
    "rx_bits[:, 1] = qam16_demap2bits_labeled(rx_iq[:, 1], tx_iq[:,1], tx_bits[:, 1])\n",
    "ber0 = np.mean(rx_bits[:, 0] ^ tx_bits[:, 0])\n",
    "ber1 = np.mean(rx_bits[:, 1] ^ tx_bits[:, 1])\n",
    "\n",
    "print(\"initial data results:\")\n",
    "print(\"\\tSER0: {}\".format(ser0))\n",
    "print(\"\\tSER1: {}\".format(ser1))\n",
    "print(\"\\tSER_AVG: {}\".format(np.mean([ser0, ser1])))\n",
    "print(\"\\tBER0: {}\".format(ber0))\n",
    "print(\"\\tBER1: {}\".format(ber1))\n",
    "print(\"\\tBER_AVG: {}\".format(np.mean([ber0, ber1])))\n"
   ]
  },
  {
   "cell_type": "code",
   "execution_count": null,
   "id": "e4bf4ce7",
   "metadata": {},
   "outputs": [],
   "source": [
    "M_range = np.arange(0, 10, 2)\n",
    "NMSE_res = np.zeros((M_range, 3))\n",
    "SER_res = np.zeros((M_range, 3))\n",
    "BER_res = np.zeros((M_range, 3))\n",
    "\n",
    "for M in M_range:\n",
    "    tx_iq_out, tx_bits_out, rx_iq_out, V, c = adaptation.LS_adapt(10, tx_iq, rx_iq, tx_bits)\n",
    "    "
   ]
  },
  {
   "cell_type": "code",
   "execution_count": 5,
   "id": "1a4d0ab2",
   "metadata": {},
   "outputs": [
    {
     "name": "stdout",
     "output_type": "stream",
     "text": [
      "NMSE0: -13.417971111607539 dB\n",
      "NMSE1: -13.364849342221241 dB\n",
      "NMSE: -13.391314703337633 dB\n",
      "SER0: 0.021199694979613434\n",
      "SER1: 0.022289053503065766\n",
      "SER_AVG: 0.021744374241339598\n",
      "BER0: 0.005330075632606057\n",
      "BER1: 0.00559949733885275\n",
      "BER_AVG: 0.005464786485729404\n"
     ]
    }
   ],
   "source": [
    "tx_iq_out, tx_bits_out, rx_iq_out, V, c = adaptation.LS_adapt(10, tx_iq, rx_iq, tx_bits)\n",
    "\n",
    "print(\"NMSE0: {} dB\".format(utility.nmse_db(tx_iq_out[:, 0], rx_iq_out[:, 0])))\n",
    "print(\"NMSE1: {} dB\".format(utility.nmse_db(tx_iq_out[:, 1], rx_iq_out[:, 1])))\n",
    "print(\"NMSE: {} dB\".format(utility.nmse_db(tx_iq_out, rx_iq_out)))\n",
    "\n",
    "ser0 = qam16_ser_labeled(rx_iq_out[:, 0], tx_iq_out[:, 0])\n",
    "ser1 = qam16_ser_labeled(rx_iq_out[:, 1], tx_iq_out[:, 1])\n",
    "print(\"SER0: {}\".format(ser0))\n",
    "print(\"SER1: {}\".format(ser1))\n",
    "print(\"SER_AVG: {}\".format(np.mean([ser0, ser1])))\n",
    "\n",
    "rx_bits = np.zeros_like(tx_bits_out)\n",
    "rx_bits[:, 0] = qam16_demap2bits_labeled(rx_iq_out[:, 0], tx_iq_out[:,0], tx_bits_out[:, 0])\n",
    "rx_bits[:, 1] = qam16_demap2bits_labeled(rx_iq_out[:, 1], tx_iq_out[:,1], tx_bits_out[:, 1])\n",
    "ber0 = np.mean(rx_bits[:, 0] ^ tx_bits_out[:, 0])\n",
    "ber1 = np.mean(rx_bits[:, 1] ^ tx_bits_out[:, 1])                    \n",
    "print(\"BER0: {}\".format(ber0))\n",
    "print(\"BER1: {}\".format(ber1))\n",
    "print(\"BER_AVG: {}\".format(np.mean([ber0, ber1])))"
   ]
  },
  {
   "cell_type": "code",
   "execution_count": 38,
   "id": "322c54c5",
   "metadata": {},
   "outputs": [
    {
     "data": {
      "text/plain": [
       "<AxesSubplot:>"
      ]
     },
     "execution_count": 38,
     "metadata": {},
     "output_type": "execute_result"
    },
    {
     "data": {
      "image/png": "[encoded data removed]",
      "text/plain": [
       "<Figure size 432x288 with 2 Axes>"
      ]
     },
     "metadata": {
      "needs_background": "light"
     },
     "output_type": "display_data"
    }
   ],
   "source": [
    "import seaborn as sns\n",
    "sns.heatmap(np.abs(c[0][:(2*M+1)**2].reshape((2*M+1, 2*M+1))))"
   ]
  },
  {
   "cell_type": "code",
   "execution_count": 39,
   "id": "5f4ca138",
   "metadata": {},
   "outputs": [
    {
     "data": {
      "text/plain": [
       "<AxesSubplot:>"
      ]
     },
     "execution_count": 39,
     "metadata": {},
     "output_type": "execute_result"
    },
    {
     "data": {
      "image/png": "[encoded data removed]",
      "text/plain": [
       "<Figure size 432x288 with 2 Axes>"
      ]
     },
     "metadata": {
      "needs_background": "light"
     },
     "output_type": "display_data"
    }
   ],
   "source": [
    "sns.heatmap(np.abs(c[0][(2*M+1)**2:].reshape((2*M+1, 2*M+1))))"
   ]
  },
  {
   "cell_type": "code",
   "execution_count": 51,
   "id": "1f77d011",
   "metadata": {},
   "outputs": [],
   "source": [
    "rx_iq_opt0 = V[0]@c[0]"
   ]
  },
  {
   "cell_type": "code",
   "execution_count": 52,
   "id": "a4f9b424",
   "metadata": {},
   "outputs": [
    {
     "data": {
      "text/plain": [
       "(83310.86+0j)"
      ]
     },
     "execution_count": 52,
     "metadata": {},
     "output_type": "execute_result"
    }
   ],
   "source": [
    "d[:, 0]@d[:, 0].conj()"
   ]
  },
  {
   "cell_type": "code",
   "execution_count": 53,
   "id": "56f15189",
   "metadata": {},
   "outputs": [
    {
     "data": {
      "text/plain": [
       "(1289732+0j)"
      ]
     },
     "execution_count": 53,
     "metadata": {},
     "output_type": "execute_result"
    }
   ],
   "source": [
    "(d[:, 0]-rx_iq_opt0)@(d[:, 0]-rx_iq_opt0).conj()"
   ]
  },
  {
   "cell_type": "code",
   "execution_count": 69,
   "id": "da976eee",
   "metadata": {},
   "outputs": [
    {
     "data": {
      "text/plain": [
       "array([ 0.30609834+0.08556688j,  0.4371792 -0.39704442j,\n",
       "       -0.16438985+0.02461433j,  0.19591498+0.04168069j,\n",
       "       -0.07774115+0.04658374j, -0.78009033-0.30128384j,\n",
       "       -0.20414805-0.00870681j, -0.5178461 -0.06842554j,\n",
       "       -0.4319005 -0.05529994j,  0.30507648-0.1999731j ], dtype=complex64)"
      ]
     },
     "execution_count": 69,
     "metadata": {},
     "output_type": "execute_result"
    }
   ],
   "source": [
    "rx_iq_opt0[:10]"
   ]
  },
  {
   "cell_type": "code",
   "execution_count": 70,
   "id": "b6ba4a13",
   "metadata": {},
   "outputs": [
    {
     "data": {
      "text/plain": [
       "array([ 0.53275883+0.7239331j , -0.08579838+0.2850914j ,\n",
       "        0.29250252-0.03691322j,  0.03943706+0.03685522j,\n",
       "       -0.352722  -0.8853512j ,  0.19921064-0.3770976j ,\n",
       "        0.05248117+0.5116837j , -0.2243371 +0.27611804j,\n",
       "       -0.8426294 +0.22806263j,  0.37673044+0.12459922j], dtype=complex64)"
      ]
     },
     "execution_count": 70,
     "metadata": {},
     "output_type": "execute_result"
    }
   ],
   "source": [
    "d[:10,0]"
   ]
  },
  {
   "cell_type": "code",
   "execution_count": 60,
   "id": "39fba192",
   "metadata": {},
   "outputs": [
    {
     "name": "stdout",
     "output_type": "stream",
     "text": [
      "NMSE: -3.4410121932773796 dB\n"
     ]
    }
   ],
   "source": [
    "print(\"NMSE: {} dB\".format(utility.nmse_db(rx_iq[V_range, 0] - rx_iq_opt0, tx_iq[V_range, 0])))"
   ]
  }
 ],
 "metadata": {
  "kernelspec": {
   "display_name": "Python 3 (ipykernel)",
   "language": "python",
   "name": "python3"
  },
  "language_info": {
   "codemirror_mode": {
    "name": "ipython",
    "version": 3
   },
   "file_extension": ".py",
   "mimetype": "text/x-python",
   "name": "python",
   "nbconvert_exporter": "python",
   "pygments_lexer": "ipython3",
   "version": "3.9.6"
  }
 },
 "nbformat": 4,
 "nbformat_minor": 5
}
